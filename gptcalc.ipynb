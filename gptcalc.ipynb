{
 "cells": [
  {
   "cell_type": "markdown",
   "id": "63b75657",
   "metadata": {},
   "source": [
    "### Palindrome Problem (Leetcode Easy)"
   ]
  },
  {
   "cell_type": "code",
   "execution_count": 1,
   "id": "7824a226",
   "metadata": {},
   "outputs": [
    {
     "data": {
      "text/plain": [
       "True"
      ]
     },
     "execution_count": 1,
     "metadata": {},
     "output_type": "execute_result"
    }
   ],
   "source": [
    "def isPalindrome(x):\n",
    "        str_x = str(x)\n",
    "        return str_x == str_x[::-1]\n",
    "\n",
    "isPalindrome(1234321)"
   ]
  },
  {
   "cell_type": "code",
   "execution_count": null,
   "id": "c62df017",
   "metadata": {},
   "outputs": [],
   "source": []
  }
 ],
 "metadata": {
  "kernelspec": {
   "display_name": ".venv",
   "language": "python",
   "name": "python3"
  },
  "language_info": {
   "codemirror_mode": {
    "name": "ipython",
    "version": 3
   },
   "file_extension": ".py",
   "mimetype": "text/x-python",
   "name": "python",
   "nbconvert_exporter": "python",
   "pygments_lexer": "ipython3",
   "version": "3.10.11"
  }
 },
 "nbformat": 4,
 "nbformat_minor": 5
}
